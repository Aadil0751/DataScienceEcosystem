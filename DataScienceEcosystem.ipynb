{
 "cells": [
  {
   "cell_type": "markdown",
   "id": "5f54b255-a3ef-44b7-97f9-597a3537a090",
   "metadata": {},
   "source": [
    "# Data Science Tools and Ecosystem"
   ]
  },
  {
   "cell_type": "markdown",
   "id": "772bb2da-25c5-46c9-bec6-3dae51a5740f",
   "metadata": {},
   "source": [
    "In this notebook, Data Science Tools and Ecosystem are summarized."
   ]
  },
  {
   "cell_type": "markdown",
   "id": "cd8f5aaa-5914-484b-8e8e-3e0e56a0dc4e",
   "metadata": {},
   "source": [
    "Some of the popular languages that Data Scientists use are:\n",
    "1. Python\n",
    "2. R\n",
    "3. Structured Query Language (SQL)\n",
    "4. Java"
   ]
  },
  {
   "cell_type": "markdown",
   "id": "708d77b8-f712-4026-9628-6e6014c27057",
   "metadata": {},
   "source": [
    "Some of the commonly used libraries used by Data Scientists include:\n",
    "1. TensorFlow\n",
    "2. SciPy\n",
    "3. NumPy\n",
    "4. Pandas"
   ]
  },
  {
   "cell_type": "markdown",
   "id": "641c876b-ca0b-447c-8178-6676c15e3a4c",
   "metadata": {},
   "source": [
    "|Data Science Tools|\n",
    "|-------|\n",
    "|Jupyter Notebooks|\n",
    "|RStudio IDE|\n",
    "|Zeppelin Noteooks|"
   ]
  },
  {
   "cell_type": "markdown",
   "id": "47938626-db78-4afe-a5a6-b7dbab1fb907",
   "metadata": {},
   "source": [
    "### Below are a few examples of evaluating arithmetic expressions in Python"
   ]
  },
  {
   "cell_type": "code",
   "execution_count": 7,
   "id": "e229de27-0dbd-450b-a856-a75de0db272b",
   "metadata": {},
   "outputs": [
    {
     "data": {
      "text/plain": [
       "17"
      ]
     },
     "execution_count": 7,
     "metadata": {},
     "output_type": "execute_result"
    }
   ],
   "source": [
    "# This a simple arithmetic expression to mutiply then add integers\n",
    "(3*4)+5"
   ]
  },
  {
   "cell_type": "code",
   "execution_count": 22,
   "id": "89d0cbdb-1f99-4ac0-bea1-4a1779c6d979",
   "metadata": {},
   "outputs": [
    {
     "data": {
      "text/plain": [
       "3.3333333333333335"
      ]
     },
     "execution_count": 22,
     "metadata": {},
     "output_type": "execute_result"
    }
   ],
   "source": [
    "# This will convert 200 minutes to hours by diving by 60\n",
    "200/60"
   ]
  },
  {
   "cell_type": "markdown",
   "id": "01550d2d-69ad-43f1-9d4f-d6f081cbb7a4",
   "metadata": {},
   "source": [
    "Objectives:\n",
    "- List popular languages for Data Science\n",
    "- Evaluating simple arithmetic in Python\n",
    "- Listing commonly used libraries for data science "
   ]
  },
  {
   "cell_type": "markdown",
   "id": "ec92e7c1-88f0-444c-b1d4-4c8dee86e3f4",
   "metadata": {},
   "source": [
    "## Author\n",
    "Aadil Saloojee"
   ]
  },
  {
   "cell_type": "code",
   "execution_count": null,
   "id": "a2d64be6-ebbb-4f4a-9f8a-1cbcad317b35",
   "metadata": {},
   "outputs": [],
   "source": []
  }
 ],
 "metadata": {
  "kernelspec": {
   "display_name": "Python",
   "language": "python",
   "name": "conda-env-python-py"
  },
  "language_info": {
   "codemirror_mode": {
    "name": "ipython",
    "version": 3
   },
   "file_extension": ".py",
   "mimetype": "text/x-python",
   "name": "python",
   "nbconvert_exporter": "python",
   "pygments_lexer": "ipython3",
   "version": "3.7.12"
  }
 },
 "nbformat": 4,
 "nbformat_minor": 5
}
